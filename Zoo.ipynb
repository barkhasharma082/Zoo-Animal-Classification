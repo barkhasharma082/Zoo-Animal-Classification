{
 "cells": [
  {
   "cell_type": "raw",
   "metadata": {},
   "source": [
    "Zoo1.csv contains the details of the animals in a 1/0 format suggesting if a particular feature like hair / eggs / milk, etc. is present or not alongwith the class type."
   ]
  },
  {
   "cell_type": "markdown",
   "metadata": {},
   "source": [
    "# Importing Libraries"
   ]
  },
  {
   "cell_type": "code",
   "execution_count": 2,
   "metadata": {
    "collapsed": true
   },
   "outputs": [],
   "source": [
    "import pandas as pd\n",
    "import matplotlib.pyplot as plt\n",
    "%matplotlib inline\n",
    "import numpy as np\n",
    "import seaborn as sns\n",
    "from sklearn.datasets import load_digits\n",
    "digits = load_digits()\n",
    "from sklearn import decomposition\n",
    "from sklearn import metrics\n",
    "from sklearn.naive_bayes import GaussianNB\n",
    "from sklearn.model_selection import train_test_split"
   ]
  },
  {
   "cell_type": "markdown",
   "metadata": {},
   "source": [
    "# Importing dataset"
   ]
  },
  {
   "cell_type": "code",
   "execution_count": 7,
   "metadata": {},
   "outputs": [
    {
     "name": "stdout",
     "output_type": "stream",
     "text": [
      "       Class_Number  Number_Of_Animal_Species_In_Class\n",
      "count      7.000000                           7.000000\n",
      "mean       4.000000                          14.428571\n",
      "std        2.160247                          12.895182\n",
      "min        1.000000                           4.000000\n",
      "25%        2.500000                           6.500000\n",
      "50%        4.000000                          10.000000\n",
      "75%        5.500000                          16.500000\n",
      "max        7.000000                          41.000000\n",
      "             hair    feathers        eggs        milk    airborne     aquatic  \\\n",
      "count  101.000000  101.000000  101.000000  101.000000  101.000000  101.000000   \n",
      "mean     0.425743    0.198020    0.584158    0.405941    0.237624    0.356436   \n",
      "std      0.496921    0.400495    0.495325    0.493522    0.427750    0.481335   \n",
      "min      0.000000    0.000000    0.000000    0.000000    0.000000    0.000000   \n",
      "25%      0.000000    0.000000    0.000000    0.000000    0.000000    0.000000   \n",
      "50%      0.000000    0.000000    1.000000    0.000000    0.000000    0.000000   \n",
      "75%      1.000000    0.000000    1.000000    1.000000    0.000000    1.000000   \n",
      "max      1.000000    1.000000    1.000000    1.000000    1.000000    1.000000   \n",
      "\n",
      "         predator     toothed    backbone    breathes    venomous        fins  \\\n",
      "count  101.000000  101.000000  101.000000  101.000000  101.000000  101.000000   \n",
      "mean     0.554455    0.603960    0.821782    0.792079    0.079208    0.168317   \n",
      "std      0.499505    0.491512    0.384605    0.407844    0.271410    0.376013   \n",
      "min      0.000000    0.000000    0.000000    0.000000    0.000000    0.000000   \n",
      "25%      0.000000    0.000000    1.000000    1.000000    0.000000    0.000000   \n",
      "50%      1.000000    1.000000    1.000000    1.000000    0.000000    0.000000   \n",
      "75%      1.000000    1.000000    1.000000    1.000000    0.000000    0.000000   \n",
      "max      1.000000    1.000000    1.000000    1.000000    1.000000    1.000000   \n",
      "\n",
      "             legs        tail    domestic     catsize  class_type  \n",
      "count  101.000000  101.000000  101.000000  101.000000  101.000000  \n",
      "mean     2.841584    0.742574    0.128713    0.435644    2.831683  \n",
      "std      2.033385    0.439397    0.336552    0.498314    2.102709  \n",
      "min      0.000000    0.000000    0.000000    0.000000    1.000000  \n",
      "25%      2.000000    0.000000    0.000000    0.000000    1.000000  \n",
      "50%      4.000000    1.000000    0.000000    0.000000    2.000000  \n",
      "75%      4.000000    1.000000    0.000000    1.000000    4.000000  \n",
      "max      8.000000    1.000000    1.000000    1.000000    7.000000  \n"
     ]
    }
   ],
   "source": [
    "# import dataset\n",
    "df1=pd.read_csv(\"D:\\College Stuffs\\Machine learning project\\class.csv\")\n",
    "df2=pd.read_csv(\"D:\\College Stuffs\\Machine learning project\\zoo1.csv\")\n",
    "print(df1.describe())\n",
    "print(df2.describe())"
   ]
  },
  {
   "cell_type": "markdown",
   "metadata": {},
   "source": [
    "# Describing dataset"
   ]
  },
  {
   "cell_type": "code",
   "execution_count": 11,
   "metadata": {},
   "outputs": [
    {
     "data": {
      "text/html": [
       "<div>\n",
       "<style>\n",
       "    .dataframe thead tr:only-child th {\n",
       "        text-align: right;\n",
       "    }\n",
       "\n",
       "    .dataframe thead th {\n",
       "        text-align: left;\n",
       "    }\n",
       "\n",
       "    .dataframe tbody tr th {\n",
       "        vertical-align: top;\n",
       "    }\n",
       "</style>\n",
       "<table border=\"1\" class=\"dataframe\">\n",
       "  <thead>\n",
       "    <tr style=\"text-align: right;\">\n",
       "      <th></th>\n",
       "      <th>Class_Number</th>\n",
       "      <th>Number_Of_Animal_Species_In_Class</th>\n",
       "      <th>Class_Type</th>\n",
       "      <th>Animal_Names</th>\n",
       "    </tr>\n",
       "  </thead>\n",
       "  <tbody>\n",
       "    <tr>\n",
       "      <th>0</th>\n",
       "      <td>1</td>\n",
       "      <td>41</td>\n",
       "      <td>Mammal</td>\n",
       "      <td>aardvark, antelope, bear, boar, buffalo, calf,...</td>\n",
       "    </tr>\n",
       "    <tr>\n",
       "      <th>1</th>\n",
       "      <td>2</td>\n",
       "      <td>20</td>\n",
       "      <td>Bird</td>\n",
       "      <td>chicken, crow, dove, duck, flamingo, gull, haw...</td>\n",
       "    </tr>\n",
       "    <tr>\n",
       "      <th>2</th>\n",
       "      <td>3</td>\n",
       "      <td>5</td>\n",
       "      <td>Reptile</td>\n",
       "      <td>pitviper, seasnake, slowworm, tortoise, tuatara</td>\n",
       "    </tr>\n",
       "    <tr>\n",
       "      <th>3</th>\n",
       "      <td>4</td>\n",
       "      <td>13</td>\n",
       "      <td>Fish</td>\n",
       "      <td>bass, carp, catfish, chub, dogfish, haddock, h...</td>\n",
       "    </tr>\n",
       "    <tr>\n",
       "      <th>4</th>\n",
       "      <td>5</td>\n",
       "      <td>4</td>\n",
       "      <td>Amphibian</td>\n",
       "      <td>frog, frog, newt, toad</td>\n",
       "    </tr>\n",
       "  </tbody>\n",
       "</table>\n",
       "</div>"
      ],
      "text/plain": [
       "   Class_Number  Number_Of_Animal_Species_In_Class Class_Type  \\\n",
       "0             1                                 41     Mammal   \n",
       "1             2                                 20       Bird   \n",
       "2             3                                  5    Reptile   \n",
       "3             4                                 13       Fish   \n",
       "4             5                                  4  Amphibian   \n",
       "\n",
       "                                        Animal_Names  \n",
       "0  aardvark, antelope, bear, boar, buffalo, calf,...  \n",
       "1  chicken, crow, dove, duck, flamingo, gull, haw...  \n",
       "2    pitviper, seasnake, slowworm, tortoise, tuatara  \n",
       "3  bass, carp, catfish, chub, dogfish, haddock, h...  \n",
       "4                             frog, frog, newt, toad  "
      ]
     },
     "execution_count": 11,
     "metadata": {},
     "output_type": "execute_result"
    }
   ],
   "source": [
    "df1.head()"
   ]
  },
  {
   "cell_type": "code",
   "execution_count": 12,
   "metadata": {},
   "outputs": [
    {
     "data": {
      "text/html": [
       "<div>\n",
       "<style>\n",
       "    .dataframe thead tr:only-child th {\n",
       "        text-align: right;\n",
       "    }\n",
       "\n",
       "    .dataframe thead th {\n",
       "        text-align: left;\n",
       "    }\n",
       "\n",
       "    .dataframe tbody tr th {\n",
       "        vertical-align: top;\n",
       "    }\n",
       "</style>\n",
       "<table border=\"1\" class=\"dataframe\">\n",
       "  <thead>\n",
       "    <tr style=\"text-align: right;\">\n",
       "      <th></th>\n",
       "      <th>animal_name</th>\n",
       "      <th>hair</th>\n",
       "      <th>feathers</th>\n",
       "      <th>eggs</th>\n",
       "      <th>milk</th>\n",
       "      <th>airborne</th>\n",
       "      <th>aquatic</th>\n",
       "      <th>predator</th>\n",
       "      <th>toothed</th>\n",
       "      <th>backbone</th>\n",
       "      <th>breathes</th>\n",
       "      <th>venomous</th>\n",
       "      <th>fins</th>\n",
       "      <th>legs</th>\n",
       "      <th>tail</th>\n",
       "      <th>domestic</th>\n",
       "      <th>catsize</th>\n",
       "      <th>class_type</th>\n",
       "    </tr>\n",
       "  </thead>\n",
       "  <tbody>\n",
       "    <tr>\n",
       "      <th>0</th>\n",
       "      <td>aardvark</td>\n",
       "      <td>1</td>\n",
       "      <td>0</td>\n",
       "      <td>0</td>\n",
       "      <td>1</td>\n",
       "      <td>0</td>\n",
       "      <td>0</td>\n",
       "      <td>1</td>\n",
       "      <td>1</td>\n",
       "      <td>1</td>\n",
       "      <td>1</td>\n",
       "      <td>0</td>\n",
       "      <td>0</td>\n",
       "      <td>4</td>\n",
       "      <td>0</td>\n",
       "      <td>0</td>\n",
       "      <td>1</td>\n",
       "      <td>1</td>\n",
       "    </tr>\n",
       "    <tr>\n",
       "      <th>1</th>\n",
       "      <td>antelope</td>\n",
       "      <td>1</td>\n",
       "      <td>0</td>\n",
       "      <td>0</td>\n",
       "      <td>1</td>\n",
       "      <td>0</td>\n",
       "      <td>0</td>\n",
       "      <td>0</td>\n",
       "      <td>1</td>\n",
       "      <td>1</td>\n",
       "      <td>1</td>\n",
       "      <td>0</td>\n",
       "      <td>0</td>\n",
       "      <td>4</td>\n",
       "      <td>1</td>\n",
       "      <td>0</td>\n",
       "      <td>1</td>\n",
       "      <td>1</td>\n",
       "    </tr>\n",
       "    <tr>\n",
       "      <th>2</th>\n",
       "      <td>bass</td>\n",
       "      <td>0</td>\n",
       "      <td>0</td>\n",
       "      <td>1</td>\n",
       "      <td>0</td>\n",
       "      <td>0</td>\n",
       "      <td>1</td>\n",
       "      <td>1</td>\n",
       "      <td>1</td>\n",
       "      <td>1</td>\n",
       "      <td>0</td>\n",
       "      <td>0</td>\n",
       "      <td>1</td>\n",
       "      <td>0</td>\n",
       "      <td>1</td>\n",
       "      <td>0</td>\n",
       "      <td>0</td>\n",
       "      <td>4</td>\n",
       "    </tr>\n",
       "    <tr>\n",
       "      <th>3</th>\n",
       "      <td>bear</td>\n",
       "      <td>1</td>\n",
       "      <td>0</td>\n",
       "      <td>0</td>\n",
       "      <td>1</td>\n",
       "      <td>0</td>\n",
       "      <td>0</td>\n",
       "      <td>1</td>\n",
       "      <td>1</td>\n",
       "      <td>1</td>\n",
       "      <td>1</td>\n",
       "      <td>0</td>\n",
       "      <td>0</td>\n",
       "      <td>4</td>\n",
       "      <td>0</td>\n",
       "      <td>0</td>\n",
       "      <td>1</td>\n",
       "      <td>1</td>\n",
       "    </tr>\n",
       "    <tr>\n",
       "      <th>4</th>\n",
       "      <td>boar</td>\n",
       "      <td>1</td>\n",
       "      <td>0</td>\n",
       "      <td>0</td>\n",
       "      <td>1</td>\n",
       "      <td>0</td>\n",
       "      <td>0</td>\n",
       "      <td>1</td>\n",
       "      <td>1</td>\n",
       "      <td>1</td>\n",
       "      <td>1</td>\n",
       "      <td>0</td>\n",
       "      <td>0</td>\n",
       "      <td>4</td>\n",
       "      <td>1</td>\n",
       "      <td>0</td>\n",
       "      <td>1</td>\n",
       "      <td>1</td>\n",
       "    </tr>\n",
       "  </tbody>\n",
       "</table>\n",
       "</div>"
      ],
      "text/plain": [
       "  animal_name  hair  feathers  eggs  milk  airborne  aquatic  predator  \\\n",
       "0    aardvark     1         0     0     1         0        0         1   \n",
       "1    antelope     1         0     0     1         0        0         0   \n",
       "2        bass     0         0     1     0         0        1         1   \n",
       "3        bear     1         0     0     1         0        0         1   \n",
       "4        boar     1         0     0     1         0        0         1   \n",
       "\n",
       "   toothed  backbone  breathes  venomous  fins  legs  tail  domestic  catsize  \\\n",
       "0        1         1         1         0     0     4     0         0        1   \n",
       "1        1         1         1         0     0     4     1         0        1   \n",
       "2        1         1         0         0     1     0     1         0        0   \n",
       "3        1         1         1         0     0     4     0         0        1   \n",
       "4        1         1         1         0     0     4     1         0        1   \n",
       "\n",
       "   class_type  \n",
       "0           1  \n",
       "1           1  \n",
       "2           4  \n",
       "3           1  \n",
       "4           1  "
      ]
     },
     "execution_count": 12,
     "metadata": {},
     "output_type": "execute_result"
    }
   ],
   "source": [
    "df2.head()"
   ]
  },
  {
   "cell_type": "raw",
   "metadata": {},
   "source": [
    "# Seeing the data, class.csv contains the details of the class like mammals, amphibians, etc. alongwith number of animals in this class, its code and the names of the animals\n",
    "\n",
    "animal.csv contains the details of the animals in a 1/0 format suggesting if a particular feature like hair / eggs / milk, etc. is present or not alongwith the class type - we actually only need animal.csv to make a prediction"
   ]
  },
  {
   "cell_type": "markdown",
   "metadata": {},
   "source": [
    "# Trying to understand the corelations and PCA within the features"
   ]
  },
  {
   "cell_type": "raw",
   "metadata": {},
   "source": [
    "First let us try to see if there's any correlation within the attributes and also try to do a PCA"
   ]
  },
  {
   "cell_type": "code",
   "execution_count": 13,
   "metadata": {},
   "outputs": [
    {
     "data": {
      "text/plain": [
       "<matplotlib.axes._subplots.AxesSubplot at 0x1cfc07d3978>"
      ]
     },
     "execution_count": 13,
     "metadata": {},
     "output_type": "execute_result"
    },
    {
     "data": {
      "image/png": "[encoded data removed]",
      "text/plain": [
       "<matplotlib.figure.Figure at 0x1cfc07c2da0>"
      ]
     },
     "metadata": {},
     "output_type": "display_data"
    }
   ],
   "source": [
    "correlation = df2.corr()\n",
    "f, ax = plt.subplots(figsize=(9, 9))\n",
    "plt.rcParams.update({'font.size': 8})\n",
    "sns.heatmap(correlation, vmax=1,annot=True,cmap='cubehelix')"
   ]
  },
  {
   "cell_type": "markdown",
   "metadata": {},
   "source": [
    "# Few observations from the heatmap of correlation matrix"
   ]
  },
  {
   "cell_type": "markdown",
   "metadata": {},
   "source": [
    "There is a very strong correlation between the following types of features:\n",
    "\n",
    "Having hair means it is very unlikely that the animal lays eggs & very likely that it gives milk\n",
    "Having feathers has a relatively high correlation with the animal being airborne and low correlation with it having teeth\n",
    "If the animal lays eggs, it is very unlikely that it gives milk, similar low correlation for having teeth\n",
    "If it is aquatic relatively high corrrelation for having fins & so on"
   ]
  },
  {
   "cell_type": "code",
   "execution_count": 14,
   "metadata": {},
   "outputs": [
    {
     "name": "stdout",
     "output_type": "stream",
     "text": [
      "[0 0 1 0 0 1 1 1 1 0 0 1 0 1 0 0] 4\n"
     ]
    }
   ],
   "source": [
    "a = df2.iloc[:,1:17].values\n",
    "b = df2.iloc[:,17].values\n",
    "print(a[2],b[2])"
   ]
  },
  {
   "cell_type": "code",
   "execution_count": 17,
   "metadata": {
    "collapsed": true
   },
   "outputs": [],
   "source": [
    "#Classifiying data and target\n",
    "X = df2.iloc[:,1:17].values   # Not considering the name of the animal - placing it \n",
    "y = df2.iloc[:,17].values     # Class number to be assigned (labels)\n",
    "\n",
    "# Separating into test and training data\n",
    "X_train, X_test, y_train, y_test = train_test_split(X, y, test_size=0.4, random_state=0)"
   ]
  },
  {
   "cell_type": "code",
   "execution_count": 22,
   "metadata": {},
   "outputs": [],
   "source": [
    "# Have to include cross validation here as the sample size is too less"
   ]
  },
  {
   "cell_type": "code",
   "execution_count": 23,
   "metadata": {},
   "outputs": [
    {
     "data": {
      "text/plain": [
       "array(['hair', 'feathers', 'eggs', 'milk', 'airborne', 'aquatic',\n",
       "       'predator', 'toothed', 'backbone', 'breathes', 'venomous', 'fins',\n",
       "       'legs', 'tail', 'domestic', 'catsize'], dtype=object)"
      ]
     },
     "execution_count": 23,
     "metadata": {},
     "output_type": "execute_result"
    }
   ],
   "source": [
    "b = df2.columns.values\n",
    "index = [0,17]\n",
    "feature_names = np.delete(b,index)\n",
    "feature_names"
   ]
  },
  {
   "cell_type": "code",
   "execution_count": 24,
   "metadata": {},
   "outputs": [
    {
     "data": {
      "text/plain": [
       "array(['Mammal', 'Bird', 'Reptile', 'Fish', 'Amphibian', 'Bug',\n",
       "       'Invertebrate'], dtype=object)"
      ]
     },
     "execution_count": 24,
     "metadata": {},
     "output_type": "execute_result"
    }
   ],
   "source": [
    "target_names = np.array(df1['Class_Type'])\n",
    "target_names"
   ]
  },
  {
   "cell_type": "code",
   "execution_count": 25,
   "metadata": {},
   "outputs": [
    {
     "name": "stderr",
     "output_type": "stream",
     "text": [
      "C:\\Users\\Barkha\\Anaconda3\\lib\\site-packages\\sklearn\\utils\\validation.py:475: DataConversionWarning: Data with input dtype int64 was converted to float64 by StandardScaler.\n",
      "  warnings.warn(msg, DataConversionWarning)\n"
     ]
    }
   ],
   "source": [
    "#Standardizing data\n",
    "\n",
    "from sklearn.preprocessing import StandardScaler\n",
    "X_std = StandardScaler().fit_transform(X_train)"
   ]
  },
  {
   "cell_type": "markdown",
   "metadata": {},
   "source": [
    "# PCA"
   ]
  },
  {
   "cell_type": "markdown",
   "metadata": {},
   "source": [
    "Trying to reduce the number of features considered here - with PCA"
   ]
  },
  {
   "cell_type": "code",
   "execution_count": 26,
   "metadata": {
    "collapsed": true
   },
   "outputs": [],
   "source": [
    "#pca = decomposition.PCA(n_components=3)\n",
    "#pca.fit(X)\n",
    "#X = pca.transform(X)"
   ]
  },
  {
   "cell_type": "markdown",
   "metadata": {
    "collapsed": true
   },
   "source": [
    "# Trying different models"
   ]
  },
  {
   "cell_type": "markdown",
   "metadata": {},
   "source": [
    "# K-NN"
   ]
  },
  {
   "cell_type": "code",
   "execution_count": 27,
   "metadata": {},
   "outputs": [
    {
     "name": "stdout",
     "output_type": "stream",
     "text": [
      "KNeighborsClassifier(algorithm='auto', leaf_size=30, metric='minkowski',\n",
      "           metric_params=None, n_jobs=1, n_neighbors=5, p=2,\n",
      "           weights='uniform')\n",
      "             precision    recall  f1-score   support\n",
      "\n",
      "          1       1.00      0.94      0.97        16\n",
      "          2       1.00      1.00      1.00         7\n",
      "          3       0.00      0.00      0.00         4\n",
      "          4       0.67      1.00      0.80         8\n",
      "          5       0.50      1.00      0.67         1\n",
      "          6       1.00      1.00      1.00         3\n",
      "          7       1.00      1.00      1.00         2\n",
      "\n",
      "avg / total       0.83      0.88      0.84        41\n",
      "\n",
      "[[15  0  0  1  0  0  0]\n",
      " [ 0  7  0  0  0  0  0]\n",
      " [ 0  0  0  3  1  0  0]\n",
      " [ 0  0  0  8  0  0  0]\n",
      " [ 0  0  0  0  1  0  0]\n",
      " [ 0  0  0  0  0  3  0]\n",
      " [ 0  0  0  0  0  0  2]]\n"
     ]
    },
    {
     "name": "stderr",
     "output_type": "stream",
     "text": [
      "C:\\Users\\Barkha\\Anaconda3\\lib\\site-packages\\sklearn\\metrics\\classification.py:1135: UndefinedMetricWarning: Precision and F-score are ill-defined and being set to 0.0 in labels with no predicted samples.\n",
      "  'precision', 'predicted', average, warn_for)\n"
     ]
    }
   ],
   "source": [
    "from sklearn.neighbors import KNeighborsClassifier\n",
    "# fit a k-nearest neighbor model to the data\n",
    "model = KNeighborsClassifier()\n",
    "model.fit(X_train, y_train)\n",
    "print(model)\n",
    "# make predictions\n",
    "expected = y_test\n",
    "predicted = model.predict(X_test)\n",
    "# summarize the fit of the model\n",
    "print(metrics.classification_report(expected, predicted))\n",
    "print(metrics.confusion_matrix(expected, predicted))"
   ]
  },
  {
   "cell_type": "markdown",
   "metadata": {},
   "source": [
    "# Gaussian Naive Bayes"
   ]
  },
  {
   "cell_type": "code",
   "execution_count": 28,
   "metadata": {},
   "outputs": [
    {
     "name": "stdout",
     "output_type": "stream",
     "text": [
      "GaussianNB(priors=None)\n",
      "              precision    recall  f1-score   support\n",
      "\n",
      "      Mammal       1.00      1.00      1.00        16\n",
      "        Bird       1.00      1.00      1.00         7\n",
      "     Reptile       0.00      0.00      0.00         4\n",
      "        Fish       1.00      1.00      1.00         8\n",
      "   Amphibian       0.50      1.00      0.67         1\n",
      "         Bug       1.00      1.00      1.00         3\n",
      "Invertebrate       0.40      1.00      0.57         2\n",
      "\n",
      " avg / total       0.86      0.90      0.87        41\n",
      "\n",
      "[[16  0  0  0  0  0  0]\n",
      " [ 0  7  0  0  0  0  0]\n",
      " [ 0  0  0  0  1  0  3]\n",
      " [ 0  0  0  8  0  0  0]\n",
      " [ 0  0  0  0  1  0  0]\n",
      " [ 0  0  0  0  0  3  0]\n",
      " [ 0  0  0  0  0  0  2]]\n"
     ]
    },
    {
     "name": "stderr",
     "output_type": "stream",
     "text": [
      "C:\\Users\\Barkha\\Anaconda3\\lib\\site-packages\\sklearn\\metrics\\classification.py:1135: UndefinedMetricWarning: Precision and F-score are ill-defined and being set to 0.0 in labels with no predicted samples.\n",
      "  'precision', 'predicted', average, warn_for)\n"
     ]
    }
   ],
   "source": [
    "# Fitting a Naive Bayes model to the data\n",
    "model = GaussianNB()\n",
    "model.fit(X_train, y_train)\n",
    "\n",
    "print(model)\n",
    "\n",
    "# make predictions\n",
    "expected = y_test\n",
    "predicted = model.predict(X_test)\n",
    "# summarize the fit of the model\n",
    "print(metrics.classification_report(expected, predicted, target_names = target_names))\n",
    "print(metrics.confusion_matrix(expected, predicted))"
   ]
  },
  {
   "cell_type": "markdown",
   "metadata": {},
   "source": [
    "# SVM"
   ]
  },
  {
   "cell_type": "code",
   "execution_count": 29,
   "metadata": {},
   "outputs": [
    {
     "name": "stdout",
     "output_type": "stream",
     "text": [
      "LinearSVC(C=1.0, class_weight=None, dual=True, fit_intercept=True,\n",
      "     intercept_scaling=1, loss='squared_hinge', max_iter=1000,\n",
      "     multi_class='ovr', penalty='l2', random_state=None, tol=0.0001,\n",
      "     verbose=0)\n",
      "              precision    recall  f1-score   support\n",
      "\n",
      "      Mammal       1.00      1.00      1.00        16\n",
      "        Bird       1.00      1.00      1.00         7\n",
      "     Reptile       0.00      0.00      0.00         4\n",
      "        Fish       1.00      1.00      1.00         8\n",
      "   Amphibian       0.25      1.00      0.40         1\n",
      "         Bug       1.00      1.00      1.00         3\n",
      "Invertebrate       0.67      1.00      0.80         2\n",
      "\n",
      " avg / total       0.87      0.90      0.88        41\n",
      "\n",
      "[[16  0  0  0  0  0  0]\n",
      " [ 0  7  0  0  0  0  0]\n",
      " [ 0  0  0  0  3  0  1]\n",
      " [ 0  0  0  8  0  0  0]\n",
      " [ 0  0  0  0  1  0  0]\n",
      " [ 0  0  0  0  0  3  0]\n",
      " [ 0  0  0  0  0  0  2]]\n"
     ]
    },
    {
     "name": "stderr",
     "output_type": "stream",
     "text": [
      "C:\\Users\\Barkha\\Anaconda3\\lib\\site-packages\\sklearn\\metrics\\classification.py:1135: UndefinedMetricWarning: Precision and F-score are ill-defined and being set to 0.0 in labels with no predicted samples.\n",
      "  'precision', 'predicted', average, warn_for)\n"
     ]
    }
   ],
   "source": [
    "from sklearn import svm\n",
    "model = svm.LinearSVC()\n",
    "model.fit(X_train, y_train)\n",
    "\n",
    "print(model)\n",
    "\n",
    "# make predictions\n",
    "expected = y_test\n",
    "predicted = model.predict(X_test)\n",
    "\n",
    "# summarize the fit of the model\n",
    "print(metrics.classification_report(expected, predicted, target_names = target_names))\n",
    "print(metrics.confusion_matrix(expected, predicted))"
   ]
  },
  {
   "cell_type": "markdown",
   "metadata": {},
   "source": [
    "# Decision Trees"
   ]
  },
  {
   "cell_type": "code",
   "execution_count": 30,
   "metadata": {},
   "outputs": [
    {
     "name": "stdout",
     "output_type": "stream",
     "text": [
      "DecisionTreeClassifier(class_weight=None, criterion='gini', max_depth=None,\n",
      "            max_features=None, max_leaf_nodes=None,\n",
      "            min_impurity_decrease=0.0, min_impurity_split=None,\n",
      "            min_samples_leaf=1, min_samples_split=2,\n",
      "            min_weight_fraction_leaf=0.0, presort=False, random_state=None,\n",
      "            splitter='best')\n",
      "              precision    recall  f1-score   support\n",
      "\n",
      "      Mammal       1.00      1.00      1.00        16\n",
      "        Bird       1.00      1.00      1.00         7\n",
      "     Reptile       1.00      0.75      0.86         4\n",
      "        Fish       1.00      1.00      1.00         8\n",
      "   Amphibian       0.50      1.00      0.67         1\n",
      "         Bug       1.00      1.00      1.00         3\n",
      "Invertebrate       1.00      1.00      1.00         2\n",
      "\n",
      " avg / total       0.99      0.98      0.98        41\n",
      "\n",
      "[[16  0  0  0  0  0  0]\n",
      " [ 0  7  0  0  0  0  0]\n",
      " [ 0  0  3  0  1  0  0]\n",
      " [ 0  0  0  8  0  0  0]\n",
      " [ 0  0  0  0  1  0  0]\n",
      " [ 0  0  0  0  0  3  0]\n",
      " [ 0  0  0  0  0  0  2]]\n"
     ]
    }
   ],
   "source": [
    "from sklearn.tree import DecisionTreeClassifier\n",
    "\n",
    "model = DecisionTreeClassifier()\n",
    "model.fit(X_train,y_train)\n",
    "\n",
    "print(model)\n",
    "\n",
    "# make predictions\n",
    "expected = y_test\n",
    "predicted = model.predict(X_test)\n",
    "# summarize the fit of the model\n",
    "\n",
    "print(metrics.classification_report(expected, predicted, target_names = target_names))\n",
    "print(metrics.confusion_matrix(expected, predicted))"
   ]
  },
  {
   "cell_type": "markdown",
   "metadata": {},
   "source": [
    "Trying to print the decision tree below:"
   ]
  },
  {
   "cell_type": "code",
   "execution_count": 34,
   "metadata": {},
   "outputs": [
    {
     "ename": "ModuleNotFoundError",
     "evalue": "No module named 'pydotplus'",
     "output_type": "error",
     "traceback": [
      "\u001b[1;31m---------------------------------------------------------------------------\u001b[0m",
      "\u001b[1;31mModuleNotFoundError\u001b[0m                       Traceback (most recent call last)",
      "\u001b[1;32m<ipython-input-34-a735b1ff5f9a>\u001b[0m in \u001b[0;36m<module>\u001b[1;34m()\u001b[0m\n\u001b[0;32m      2\u001b[0m \u001b[1;32mfrom\u001b[0m \u001b[0msklearn\u001b[0m \u001b[1;32mimport\u001b[0m \u001b[0mtree\u001b[0m\u001b[1;33m\u001b[0m\u001b[0m\n\u001b[0;32m      3\u001b[0m \u001b[1;31m#import pydot\u001b[0m\u001b[1;33m\u001b[0m\u001b[1;33m\u001b[0m\u001b[0m\n\u001b[1;32m----> 4\u001b[1;33m \u001b[1;32mimport\u001b[0m \u001b[0mpydotplus\u001b[0m \u001b[1;32mas\u001b[0m \u001b[0mpydot\u001b[0m\u001b[1;33m\u001b[0m\u001b[0m\n\u001b[0m\u001b[0;32m      5\u001b[0m \u001b[1;33m\u001b[0m\u001b[0m\n\u001b[0;32m      6\u001b[0m dot_data = tree.export_graphviz(model, out_file=None, \n",
      "\u001b[1;31mModuleNotFoundError\u001b[0m: No module named 'pydotplus'"
     ]
    }
   ],
   "source": [
    "from IPython.display import Image\n",
    "from sklearn import tree\n",
    "#import pydot\n",
    "import pydotplus as pydot\n",
    "\n",
    "dot_data = tree.export_graphviz(model, out_file=None, \n",
    "                         feature_names=feature_names,  \n",
    "                         class_names=target_names,  \n",
    "                         filled=True, rounded=True,  \n",
    "                         special_characters=True)  \n",
    "#graph = pydot.graph_from_dot_data(dot_data)  \n",
    "#Image(graph.create_png())"
   ]
  },
  {
   "cell_type": "markdown",
   "metadata": {},
   "source": [
    "# Random Forest"
   ]
  },
  {
   "cell_type": "code",
   "execution_count": 35,
   "metadata": {},
   "outputs": [
    {
     "name": "stdout",
     "output_type": "stream",
     "text": [
      "RandomForestClassifier(bootstrap=True, class_weight=None, criterion='gini',\n",
      "            max_depth=None, max_features='auto', max_leaf_nodes=None,\n",
      "            min_impurity_decrease=0.0, min_impurity_split=None,\n",
      "            min_samples_leaf=1, min_samples_split=2,\n",
      "            min_weight_fraction_leaf=0.0, n_estimators=10, n_jobs=1,\n",
      "            oob_score=False, random_state=None, verbose=0,\n",
      "            warm_start=False)\n",
      "              precision    recall  f1-score   support\n",
      "\n",
      "      Mammal       0.94      0.94      0.94        16\n",
      "        Bird       1.00      1.00      1.00         7\n",
      "     Reptile       0.00      0.00      0.00         4\n",
      "        Fish       1.00      1.00      1.00         8\n",
      "   Amphibian       0.25      1.00      0.40         1\n",
      "         Bug       1.00      1.00      1.00         3\n",
      "Invertebrate       1.00      1.00      1.00         2\n",
      "\n",
      " avg / total       0.86      0.88      0.86        41\n",
      "\n",
      "[[15  0  1  0  0  0  0]\n",
      " [ 0  7  0  0  0  0  0]\n",
      " [ 1  0  0  0  3  0  0]\n",
      " [ 0  0  0  8  0  0  0]\n",
      " [ 0  0  0  0  1  0  0]\n",
      " [ 0  0  0  0  0  3  0]\n",
      " [ 0  0  0  0  0  0  2]]\n"
     ]
    }
   ],
   "source": [
    "from sklearn.ensemble import RandomForestClassifier\n",
    "model = RandomForestClassifier()\n",
    "model.fit(X_train, y_train)\n",
    "\n",
    "print(model)\n",
    "\n",
    "# make predictions\n",
    "expected = y_test\n",
    "predicted = model.predict(X_test)\n",
    "# summarize the fit of the model\n",
    "print(metrics.classification_report(expected, predicted, target_names = target_names))\n",
    "print(metrics.confusion_matrix(expected, predicted))"
   ]
  },
  {
   "cell_type": "raw",
   "metadata": {},
   "source": [
    "It seems that most models are performing poorly for reptiles and amphibians (Which makes sense as they are kind of similar) lets try looking at the dataset for both of these and try coming up with some form of PCA"
   ]
  },
  {
   "cell_type": "code",
   "execution_count": 36,
   "metadata": {},
   "outputs": [
    {
     "data": {
      "text/html": [
       "<div>\n",
       "<style>\n",
       "    .dataframe thead tr:only-child th {\n",
       "        text-align: right;\n",
       "    }\n",
       "\n",
       "    .dataframe thead th {\n",
       "        text-align: left;\n",
       "    }\n",
       "\n",
       "    .dataframe tbody tr th {\n",
       "        vertical-align: top;\n",
       "    }\n",
       "</style>\n",
       "<table border=\"1\" class=\"dataframe\">\n",
       "  <thead>\n",
       "    <tr style=\"text-align: right;\">\n",
       "      <th></th>\n",
       "      <th>animal_name</th>\n",
       "      <th>hair</th>\n",
       "      <th>feathers</th>\n",
       "      <th>eggs</th>\n",
       "      <th>milk</th>\n",
       "      <th>airborne</th>\n",
       "      <th>aquatic</th>\n",
       "      <th>predator</th>\n",
       "      <th>toothed</th>\n",
       "      <th>backbone</th>\n",
       "      <th>breathes</th>\n",
       "      <th>venomous</th>\n",
       "      <th>fins</th>\n",
       "      <th>legs</th>\n",
       "      <th>tail</th>\n",
       "      <th>domestic</th>\n",
       "      <th>catsize</th>\n",
       "      <th>class_type</th>\n",
       "    </tr>\n",
       "  </thead>\n",
       "  <tbody>\n",
       "    <tr>\n",
       "      <th>25</th>\n",
       "      <td>frog</td>\n",
       "      <td>0</td>\n",
       "      <td>0</td>\n",
       "      <td>1</td>\n",
       "      <td>0</td>\n",
       "      <td>0</td>\n",
       "      <td>1</td>\n",
       "      <td>1</td>\n",
       "      <td>1</td>\n",
       "      <td>1</td>\n",
       "      <td>1</td>\n",
       "      <td>0</td>\n",
       "      <td>0</td>\n",
       "      <td>4</td>\n",
       "      <td>0</td>\n",
       "      <td>0</td>\n",
       "      <td>0</td>\n",
       "      <td>5</td>\n",
       "    </tr>\n",
       "    <tr>\n",
       "      <th>26</th>\n",
       "      <td>frog</td>\n",
       "      <td>0</td>\n",
       "      <td>0</td>\n",
       "      <td>1</td>\n",
       "      <td>0</td>\n",
       "      <td>0</td>\n",
       "      <td>1</td>\n",
       "      <td>1</td>\n",
       "      <td>1</td>\n",
       "      <td>1</td>\n",
       "      <td>1</td>\n",
       "      <td>1</td>\n",
       "      <td>0</td>\n",
       "      <td>4</td>\n",
       "      <td>0</td>\n",
       "      <td>0</td>\n",
       "      <td>0</td>\n",
       "      <td>5</td>\n",
       "    </tr>\n",
       "    <tr>\n",
       "      <th>52</th>\n",
       "      <td>newt</td>\n",
       "      <td>0</td>\n",
       "      <td>0</td>\n",
       "      <td>1</td>\n",
       "      <td>0</td>\n",
       "      <td>0</td>\n",
       "      <td>1</td>\n",
       "      <td>1</td>\n",
       "      <td>1</td>\n",
       "      <td>1</td>\n",
       "      <td>1</td>\n",
       "      <td>0</td>\n",
       "      <td>0</td>\n",
       "      <td>4</td>\n",
       "      <td>1</td>\n",
       "      <td>0</td>\n",
       "      <td>0</td>\n",
       "      <td>5</td>\n",
       "    </tr>\n",
       "    <tr>\n",
       "      <th>62</th>\n",
       "      <td>pitviper</td>\n",
       "      <td>0</td>\n",
       "      <td>0</td>\n",
       "      <td>1</td>\n",
       "      <td>0</td>\n",
       "      <td>0</td>\n",
       "      <td>0</td>\n",
       "      <td>1</td>\n",
       "      <td>1</td>\n",
       "      <td>1</td>\n",
       "      <td>1</td>\n",
       "      <td>1</td>\n",
       "      <td>0</td>\n",
       "      <td>0</td>\n",
       "      <td>1</td>\n",
       "      <td>0</td>\n",
       "      <td>0</td>\n",
       "      <td>3</td>\n",
       "    </tr>\n",
       "    <tr>\n",
       "      <th>76</th>\n",
       "      <td>seasnake</td>\n",
       "      <td>0</td>\n",
       "      <td>0</td>\n",
       "      <td>0</td>\n",
       "      <td>0</td>\n",
       "      <td>0</td>\n",
       "      <td>1</td>\n",
       "      <td>1</td>\n",
       "      <td>1</td>\n",
       "      <td>1</td>\n",
       "      <td>0</td>\n",
       "      <td>1</td>\n",
       "      <td>0</td>\n",
       "      <td>0</td>\n",
       "      <td>1</td>\n",
       "      <td>0</td>\n",
       "      <td>0</td>\n",
       "      <td>3</td>\n",
       "    </tr>\n",
       "    <tr>\n",
       "      <th>80</th>\n",
       "      <td>slowworm</td>\n",
       "      <td>0</td>\n",
       "      <td>0</td>\n",
       "      <td>1</td>\n",
       "      <td>0</td>\n",
       "      <td>0</td>\n",
       "      <td>0</td>\n",
       "      <td>1</td>\n",
       "      <td>1</td>\n",
       "      <td>1</td>\n",
       "      <td>1</td>\n",
       "      <td>0</td>\n",
       "      <td>0</td>\n",
       "      <td>0</td>\n",
       "      <td>1</td>\n",
       "      <td>0</td>\n",
       "      <td>0</td>\n",
       "      <td>3</td>\n",
       "    </tr>\n",
       "    <tr>\n",
       "      <th>89</th>\n",
       "      <td>toad</td>\n",
       "      <td>0</td>\n",
       "      <td>0</td>\n",
       "      <td>1</td>\n",
       "      <td>0</td>\n",
       "      <td>0</td>\n",
       "      <td>1</td>\n",
       "      <td>0</td>\n",
       "      <td>1</td>\n",
       "      <td>1</td>\n",
       "      <td>1</td>\n",
       "      <td>0</td>\n",
       "      <td>0</td>\n",
       "      <td>4</td>\n",
       "      <td>0</td>\n",
       "      <td>0</td>\n",
       "      <td>0</td>\n",
       "      <td>5</td>\n",
       "    </tr>\n",
       "    <tr>\n",
       "      <th>90</th>\n",
       "      <td>tortoise</td>\n",
       "      <td>0</td>\n",
       "      <td>0</td>\n",
       "      <td>1</td>\n",
       "      <td>0</td>\n",
       "      <td>0</td>\n",
       "      <td>0</td>\n",
       "      <td>0</td>\n",
       "      <td>0</td>\n",
       "      <td>1</td>\n",
       "      <td>1</td>\n",
       "      <td>0</td>\n",
       "      <td>0</td>\n",
       "      <td>4</td>\n",
       "      <td>1</td>\n",
       "      <td>0</td>\n",
       "      <td>1</td>\n",
       "      <td>3</td>\n",
       "    </tr>\n",
       "    <tr>\n",
       "      <th>91</th>\n",
       "      <td>tuatara</td>\n",
       "      <td>0</td>\n",
       "      <td>0</td>\n",
       "      <td>1</td>\n",
       "      <td>0</td>\n",
       "      <td>0</td>\n",
       "      <td>0</td>\n",
       "      <td>1</td>\n",
       "      <td>1</td>\n",
       "      <td>1</td>\n",
       "      <td>1</td>\n",
       "      <td>0</td>\n",
       "      <td>0</td>\n",
       "      <td>4</td>\n",
       "      <td>1</td>\n",
       "      <td>0</td>\n",
       "      <td>0</td>\n",
       "      <td>3</td>\n",
       "    </tr>\n",
       "  </tbody>\n",
       "</table>\n",
       "</div>"
      ],
      "text/plain": [
       "   animal_name  hair  feathers  eggs  milk  airborne  aquatic  predator  \\\n",
       "25        frog     0         0     1     0         0        1         1   \n",
       "26        frog     0         0     1     0         0        1         1   \n",
       "52        newt     0         0     1     0         0        1         1   \n",
       "62    pitviper     0         0     1     0         0        0         1   \n",
       "76    seasnake     0         0     0     0         0        1         1   \n",
       "80    slowworm     0         0     1     0         0        0         1   \n",
       "89        toad     0         0     1     0         0        1         0   \n",
       "90    tortoise     0         0     1     0         0        0         0   \n",
       "91     tuatara     0         0     1     0         0        0         1   \n",
       "\n",
       "    toothed  backbone  breathes  venomous  fins  legs  tail  domestic  \\\n",
       "25        1         1         1         0     0     4     0         0   \n",
       "26        1         1         1         1     0     4     0         0   \n",
       "52        1         1         1         0     0     4     1         0   \n",
       "62        1         1         1         1     0     0     1         0   \n",
       "76        1         1         0         1     0     0     1         0   \n",
       "80        1         1         1         0     0     0     1         0   \n",
       "89        1         1         1         0     0     4     0         0   \n",
       "90        0         1         1         0     0     4     1         0   \n",
       "91        1         1         1         0     0     4     1         0   \n",
       "\n",
       "    catsize  class_type  \n",
       "25        0           5  \n",
       "26        0           5  \n",
       "52        0           5  \n",
       "62        0           3  \n",
       "76        0           3  \n",
       "80        0           3  \n",
       "89        0           5  \n",
       "90        1           3  \n",
       "91        0           3  "
      ]
     },
     "execution_count": 36,
     "metadata": {},
     "output_type": "execute_result"
    }
   ],
   "source": [
    "df3 = df2.loc[df2['class_type'].isin([3,5])]\n",
    "df3"
   ]
  },
  {
   "cell_type": "code",
   "execution_count": 38,
   "metadata": {},
   "outputs": [
    {
     "data": {
      "text/plain": [
       "<matplotlib.axes._subplots.AxesSubplot at 0x1cfc1113b70>"
      ]
     },
     "execution_count": 38,
     "metadata": {},
     "output_type": "execute_result"
    },
    {
     "data": {
      "image/png": "[encoded data removed]",
      "text/plain": [
       "<matplotlib.figure.Figure at 0x1cfc15b39e8>"
      ]
     },
     "metadata": {},
     "output_type": "display_data"
    }
   ],
   "source": [
    "correlation = df3.corr()\n",
    "f, ax = plt.subplots(figsize=(9, 9))\n",
    "plt.rcParams.update({'font.size': 8})\n",
    "sns.heatmap(correlation, vmax=1,annot=True,cmap='cubehelix')"
   ]
  },
  {
   "cell_type": "code",
   "execution_count": 39,
   "metadata": {},
   "outputs": [
    {
     "name": "stdout",
     "output_type": "stream",
     "text": [
      "Importance percentages of each attribute\n",
      "------------\n",
      "hair\t13.820933%\n",
      "feathers\t13.563032%\n",
      "eggs\t6.530553%\n",
      "milk\t12.982272%\n",
      "airborne\t4.783517%\n",
      "aquatic\t4.025001%\n",
      "predator\t0.790551%\n",
      "toothed\t7.843501%\n",
      "backbone\t6.611021%\n",
      "breathes\t5.634222%\n",
      "venomous\t0.618852%\n",
      "fins\t9.622729%\n",
      "legs\t7.482838%\n",
      "tail\t5.263345%\n",
      "domestic\t0.075581%\n",
      "catsize\t0.352053%\n",
      "[False  True  True  True False  True False  True  True  True False  True\n",
      "  True  True False False]\n",
      "[2 1 1 1 3 1 6 1 1 1 4 1 1 1 7 5]\n",
      "Selecting the following features:\n",
      "['feathers' 'eggs' 'milk' 'aquatic' 'toothed' 'backbone' 'breathes' 'fins'\n",
      " 'legs' 'tail']\n",
      "Removing hair\n",
      "Removing airborne\n",
      "Removing predator\n",
      "Removing venomous\n",
      "Removing domestic\n",
      "Removing catsize\n",
      "     feathers  eggs  milk  aquatic  toothed  backbone  breathes  fins  legs  \\\n",
      "0           0     0     1        0        1         1         1     0     4   \n",
      "1           0     0     1        0        1         1         1     0     4   \n",
      "2           0     1     0        1        1         1         0     1     0   \n",
      "3           0     0     1        0        1         1         1     0     4   \n",
      "4           0     0     1        0        1         1         1     0     4   \n",
      "5           0     0     1        0        1         1         1     0     4   \n",
      "6           0     0     1        0        1         1         1     0     4   \n",
      "7           0     1     0        1        1         1         0     1     0   \n",
      "8           0     1     0        1        1         1         0     1     0   \n",
      "9           0     0     1        0        1         1         1     0     4   \n",
      "10          0     0     1        0        1         1         1     0     4   \n",
      "11          1     1     0        0        0         1         1     0     2   \n",
      "12          0     1     0        1        1         1         0     1     0   \n",
      "13          0     1     0        0        0         0         0     0     0   \n",
      "14          0     1     0        1        0         0         0     0     4   \n",
      "15          0     1     0        1        0         0         0     0     6   \n",
      "16          1     1     0        0        0         1         1     0     2   \n",
      "17          0     0     1        0        1         1         1     0     4   \n",
      "18          0     1     0        1        1         1         0     1     0   \n",
      "19          0     0     1        1        1         1         1     1     0   \n",
      "20          1     1     0        0        0         1         1     0     2   \n",
      "21          1     1     0        1        0         1         1     0     2   \n",
      "22          0     0     1        0        1         1         1     0     4   \n",
      "23          1     1     0        0        0         1         1     0     2   \n",
      "24          0     1     0        0        0         0         1     0     6   \n",
      "25          0     1     0        1        1         1         1     0     4   \n",
      "26          0     1     0        1        1         1         1     0     4   \n",
      "27          0     0     1        0        1         1         1     0     2   \n",
      "28          0     0     1        0        1         1         1     0     4   \n",
      "29          0     0     1        0        1         1         1     0     2   \n",
      "..        ...   ...   ...      ...      ...       ...       ...   ...   ...   \n",
      "71          1     1     0        0        0         1         1     0     2   \n",
      "72          0     0     0        0        0         0         1     0     8   \n",
      "73          0     1     0        1        1         1         0     1     0   \n",
      "74          0     0     1        1        1         1         1     1     0   \n",
      "75          0     0     1        1        1         1         1     1     2   \n",
      "76          0     0     0        1        1         1         0     0     0   \n",
      "77          0     1     0        1        0         0         0     0     0   \n",
      "78          1     1     0        1        0         1         1     0     2   \n",
      "79          1     1     0        1        0         1         1     0     2   \n",
      "80          0     1     0        0        1         1         1     0     0   \n",
      "81          0     1     0        0        0         0         1     0     0   \n",
      "82          0     1     0        1        1         1         0     1     0   \n",
      "83          1     1     0        0        0         1         1     0     2   \n",
      "84          0     0     1        0        1         1         1     0     2   \n",
      "85          0     1     0        1        0         0         0     0     5   \n",
      "86          0     1     0        1        1         1         0     1     0   \n",
      "87          1     1     0        1        0         1         1     0     2   \n",
      "88          0     1     0        0        0         0         1     0     6   \n",
      "89          0     1     0        1        1         1         1     0     4   \n",
      "90          0     1     0        0        0         1         1     0     4   \n",
      "91          0     1     0        0        1         1         1     0     4   \n",
      "92          0     1     0        1        1         1         0     1     0   \n",
      "93          0     0     1        0        1         1         1     0     2   \n",
      "94          0     0     1        0        1         1         1     0     4   \n",
      "95          1     1     0        0        0         1         1     0     2   \n",
      "96          0     0     1        0        1         1         1     0     2   \n",
      "97          0     1     0        0        0         0         1     0     6   \n",
      "98          0     0     1        0        1         1         1     0     4   \n",
      "99          0     1     0        0        0         0         1     0     0   \n",
      "100         1     1     0        0        0         1         1     0     2   \n",
      "\n",
      "     tail  class_type  \n",
      "0       0           1  \n",
      "1       1           1  \n",
      "2       1           4  \n",
      "3       0           1  \n",
      "4       1           1  \n",
      "5       1           1  \n",
      "6       1           1  \n",
      "7       1           4  \n",
      "8       1           4  \n",
      "9       0           1  \n",
      "10      1           1  \n",
      "11      1           2  \n",
      "12      1           4  \n",
      "13      0           7  \n",
      "14      0           7  \n",
      "15      0           7  \n",
      "16      1           2  \n",
      "17      1           1  \n",
      "18      1           4  \n",
      "19      1           1  \n",
      "20      1           2  \n",
      "21      1           2  \n",
      "22      1           1  \n",
      "23      1           2  \n",
      "24      0           6  \n",
      "25      0           5  \n",
      "26      0           5  \n",
      "27      1           1  \n",
      "28      1           1  \n",
      "29      0           1  \n",
      "..    ...         ...  \n",
      "71      1           2  \n",
      "72      1           7  \n",
      "73      1           4  \n",
      "74      0           1  \n",
      "75      1           1  \n",
      "76      1           3  \n",
      "77      0           7  \n",
      "78      1           2  \n",
      "79      1           2  \n",
      "80      1           3  \n",
      "81      0           7  \n",
      "82      1           4  \n",
      "83      1           2  \n",
      "84      1           1  \n",
      "85      0           7  \n",
      "86      1           4  \n",
      "87      1           2  \n",
      "88      0           6  \n",
      "89      0           5  \n",
      "90      1           3  \n",
      "91      1           3  \n",
      "92      1           4  \n",
      "93      1           1  \n",
      "94      1           1  \n",
      "95      1           2  \n",
      "96      1           1  \n",
      "97      0           6  \n",
      "98      1           1  \n",
      "99      0           7  \n",
      "100     1           2  \n",
      "\n",
      "[101 rows x 11 columns]\n"
     ]
    }
   ],
   "source": [
    "from sklearn.ensemble import ExtraTreesClassifier\n",
    "model = ExtraTreesClassifier()\n",
    "model.fit(X, y)\n",
    "\n",
    "# display the relative importance of each attribute\n",
    "print(\"Importance percentages of each attribute\" + \"\\n\" + \"------------\")\n",
    "for i in range(0,feature_names.shape[0]):\n",
    "    print('%s\\t%f' %(feature_names[i],model.feature_importances_[i] * 100) + '%')\n",
    "    \n",
    "from sklearn.feature_selection import RFE\n",
    "rfe = RFE(model, 10)\n",
    "rfe = rfe.fit(X, y)\n",
    "\n",
    "# summarize the selection of the attributes\n",
    "print(rfe.support_)\n",
    "print(rfe.ranking_)\n",
    "\n",
    "# Top 10 features\n",
    "print(\"Selecting the following features:\")\n",
    "print(feature_names[rfe.support_ == True])\n",
    "\n",
    "df_new = df2.drop('animal_name',axis=1)\n",
    "for i in feature_names[rfe.support_ == False]:\n",
    "    df_new = df_new.drop(i, axis=1)\n",
    "    print (\"Removing\", i)\n",
    "print(df_new)\n",
    "\n",
    "#Classifiying data and target\n",
    "X = df_new.iloc[:,0:10].values   # Not considering the name of the animal - placing it \n",
    "y = df_new.iloc[:,10].values     # Class number to be assigned (labels)\n",
    "\n",
    "# Separating into test and training data\n",
    "X_train, X_test, y_train, y_test = train_test_split(X, y, test_size=0.4, random_state=0)"
   ]
  },
  {
   "cell_type": "markdown",
   "metadata": {},
   "source": [
    "# K-NN"
   ]
  },
  {
   "cell_type": "markdown",
   "metadata": {},
   "source": [
    "For updated training and test data sets"
   ]
  },
  {
   "cell_type": "code",
   "execution_count": 40,
   "metadata": {},
   "outputs": [
    {
     "name": "stdout",
     "output_type": "stream",
     "text": [
      "KNeighborsClassifier(algorithm='auto', leaf_size=30, metric='minkowski',\n",
      "           metric_params=None, n_jobs=1, n_neighbors=5, p=2,\n",
      "           weights='uniform')\n",
      "             precision    recall  f1-score   support\n",
      "\n",
      "          1       0.94      0.94      0.94        16\n",
      "          2       1.00      1.00      1.00         7\n",
      "          3       0.00      0.00      0.00         4\n",
      "          4       0.67      1.00      0.80         8\n",
      "          5       1.00      1.00      1.00         1\n",
      "          6       1.00      1.00      1.00         3\n",
      "          7       1.00      1.00      1.00         2\n",
      "\n",
      "avg / total       0.81      0.88      0.84        41\n",
      "\n",
      "[[15  0  0  1  0  0  0]\n",
      " [ 0  7  0  0  0  0  0]\n",
      " [ 1  0  0  3  0  0  0]\n",
      " [ 0  0  0  8  0  0  0]\n",
      " [ 0  0  0  0  1  0  0]\n",
      " [ 0  0  0  0  0  3  0]\n",
      " [ 0  0  0  0  0  0  2]]\n"
     ]
    },
    {
     "name": "stderr",
     "output_type": "stream",
     "text": [
      "C:\\Users\\Barkha\\Anaconda3\\lib\\site-packages\\sklearn\\metrics\\classification.py:1135: UndefinedMetricWarning: Precision and F-score are ill-defined and being set to 0.0 in labels with no predicted samples.\n",
      "  'precision', 'predicted', average, warn_for)\n"
     ]
    }
   ],
   "source": [
    "from sklearn.neighbors import KNeighborsClassifier\n",
    "# fit a k-nearest neighbor model to the data\n",
    "model = KNeighborsClassifier()\n",
    "model.fit(X_train, y_train)\n",
    "print(model)\n",
    "# make predictions\n",
    "expected = y_test\n",
    "predicted = model.predict(X_test)\n",
    "# summarize the fit of the model\n",
    "print(metrics.classification_report(expected, predicted))\n",
    "print(metrics.confusion_matrix(expected, predicted))"
   ]
  },
  {
   "cell_type": "code",
   "execution_count": 42,
   "metadata": {},
   "outputs": [
    {
     "ename": "ValueError",
     "evalue": "Parameter values for parameter (max_depth) need to be a sequence.",
     "output_type": "error",
     "traceback": [
      "\u001b[1;31m---------------------------------------------------------------------------\u001b[0m",
      "\u001b[1;31mValueError\u001b[0m                                Traceback (most recent call last)",
      "\u001b[1;32m<ipython-input-42-4d4d5ff14d8b>\u001b[0m in \u001b[0;36m<module>\u001b[1;34m()\u001b[0m\n\u001b[0;32m      1\u001b[0m \u001b[1;32mfrom\u001b[0m \u001b[0msklearn\u001b[0m \u001b[1;32mimport\u001b[0m \u001b[0mgrid_search\u001b[0m\u001b[1;33m\u001b[0m\u001b[0m\n\u001b[0;32m      2\u001b[0m \u001b[0mparameters\u001b[0m \u001b[1;33m=\u001b[0m \u001b[1;33m{\u001b[0m\u001b[1;34m'max_depth'\u001b[0m\u001b[1;33m:\u001b[0m\u001b[0mrange\u001b[0m\u001b[1;33m(\u001b[0m\u001b[1;36m3\u001b[0m\u001b[1;33m,\u001b[0m\u001b[1;36m20\u001b[0m\u001b[1;33m)\u001b[0m\u001b[1;33m}\u001b[0m\u001b[1;33m\u001b[0m\u001b[0m\n\u001b[1;32m----> 3\u001b[1;33m \u001b[0mclf\u001b[0m \u001b[1;33m=\u001b[0m \u001b[0mgrid_search\u001b[0m\u001b[1;33m.\u001b[0m\u001b[0mGridSearchCV\u001b[0m\u001b[1;33m(\u001b[0m\u001b[0mtree\u001b[0m\u001b[1;33m.\u001b[0m\u001b[0mDecisionTreeClassifier\u001b[0m\u001b[1;33m(\u001b[0m\u001b[1;33m)\u001b[0m\u001b[1;33m,\u001b[0m \u001b[0mparameters\u001b[0m\u001b[1;33m,\u001b[0m \u001b[0mn_jobs\u001b[0m\u001b[1;33m=\u001b[0m\u001b[1;33m-\u001b[0m\u001b[1;36m1\u001b[0m\u001b[1;33m)\u001b[0m\u001b[1;33m\u001b[0m\u001b[0m\n\u001b[0m\u001b[0;32m      4\u001b[0m \u001b[0mclf\u001b[0m\u001b[1;33m.\u001b[0m\u001b[0mfit\u001b[0m\u001b[1;33m(\u001b[0m\u001b[0mX\u001b[0m\u001b[1;33m=\u001b[0m\u001b[0mX\u001b[0m\u001b[1;33m,\u001b[0m \u001b[0my\u001b[0m\u001b[1;33m=\u001b[0m\u001b[0my\u001b[0m\u001b[1;33m)\u001b[0m\u001b[1;33m\u001b[0m\u001b[0m\n\u001b[0;32m      5\u001b[0m \u001b[0mtree_model\u001b[0m \u001b[1;33m=\u001b[0m \u001b[0mclf\u001b[0m\u001b[1;33m.\u001b[0m\u001b[0mbest_estimator_\u001b[0m\u001b[1;33m\u001b[0m\u001b[0m\n",
      "\u001b[1;32m~\\Anaconda3\\lib\\site-packages\\sklearn\\grid_search.py\u001b[0m in \u001b[0;36m__init__\u001b[1;34m(self, estimator, param_grid, scoring, fit_params, n_jobs, iid, refit, cv, verbose, pre_dispatch, error_score)\u001b[0m\n\u001b[0;32m    819\u001b[0m             refit, cv, verbose, pre_dispatch, error_score)\n\u001b[0;32m    820\u001b[0m         \u001b[0mself\u001b[0m\u001b[1;33m.\u001b[0m\u001b[0mparam_grid\u001b[0m \u001b[1;33m=\u001b[0m \u001b[0mparam_grid\u001b[0m\u001b[1;33m\u001b[0m\u001b[0m\n\u001b[1;32m--> 821\u001b[1;33m         \u001b[0m_check_param_grid\u001b[0m\u001b[1;33m(\u001b[0m\u001b[0mparam_grid\u001b[0m\u001b[1;33m)\u001b[0m\u001b[1;33m\u001b[0m\u001b[0m\n\u001b[0m\u001b[0;32m    822\u001b[0m \u001b[1;33m\u001b[0m\u001b[0m\n\u001b[0;32m    823\u001b[0m     \u001b[1;32mdef\u001b[0m \u001b[0mfit\u001b[0m\u001b[1;33m(\u001b[0m\u001b[0mself\u001b[0m\u001b[1;33m,\u001b[0m \u001b[0mX\u001b[0m\u001b[1;33m,\u001b[0m \u001b[0my\u001b[0m\u001b[1;33m=\u001b[0m\u001b[1;32mNone\u001b[0m\u001b[1;33m)\u001b[0m\u001b[1;33m:\u001b[0m\u001b[1;33m\u001b[0m\u001b[0m\n",
      "\u001b[1;32m~\\Anaconda3\\lib\\site-packages\\sklearn\\grid_search.py\u001b[0m in \u001b[0;36m_check_param_grid\u001b[1;34m(param_grid)\u001b[0m\n\u001b[0;32m    349\u001b[0m             \u001b[1;32mif\u001b[0m \u001b[1;32mTrue\u001b[0m \u001b[1;32mnot\u001b[0m \u001b[1;32min\u001b[0m \u001b[0mcheck\u001b[0m\u001b[1;33m:\u001b[0m\u001b[1;33m\u001b[0m\u001b[0m\n\u001b[0;32m    350\u001b[0m                 raise ValueError(\"Parameter values for parameter ({0}) need \"\n\u001b[1;32m--> 351\u001b[1;33m                                  \"to be a sequence.\".format(name))\n\u001b[0m\u001b[0;32m    352\u001b[0m \u001b[1;33m\u001b[0m\u001b[0m\n\u001b[0;32m    353\u001b[0m             \u001b[1;32mif\u001b[0m \u001b[0mlen\u001b[0m\u001b[1;33m(\u001b[0m\u001b[0mv\u001b[0m\u001b[1;33m)\u001b[0m \u001b[1;33m==\u001b[0m \u001b[1;36m0\u001b[0m\u001b[1;33m:\u001b[0m\u001b[1;33m\u001b[0m\u001b[0m\n",
      "\u001b[1;31mValueError\u001b[0m: Parameter values for parameter (max_depth) need to be a sequence."
     ]
    }
   ],
   "source": [
    "from sklearn import grid_search\n",
    "parameters = {'max_depth':range(3,20)}\n",
    "clf = grid_search.GridSearchCV(tree.DecisionTreeClassifier(), parameters, n_jobs=-1)\n",
    "clf.fit(X=X, y=y)\n",
    "tree_model = clf.best_estimator_\n",
    "print (clf.best_score_, clf.best_params_)"
   ]
  },
  {
   "cell_type": "markdown",
   "metadata": {},
   "source": [
    "# Gaussian Naive Bayes"
   ]
  },
  {
   "cell_type": "markdown",
   "metadata": {},
   "source": [
    "For dataset with updated features"
   ]
  },
  {
   "cell_type": "code",
   "execution_count": 43,
   "metadata": {},
   "outputs": [
    {
     "name": "stdout",
     "output_type": "stream",
     "text": [
      "GaussianNB(priors=None)\n",
      "              precision    recall  f1-score   support\n",
      "\n",
      "      Mammal       0.88      0.94      0.91        16\n",
      "        Bird       1.00      1.00      1.00         7\n",
      "     Reptile       0.50      0.25      0.33         4\n",
      "        Fish       0.89      1.00      0.94         8\n",
      "   Amphibian       1.00      1.00      1.00         1\n",
      "         Bug       1.00      1.00      1.00         3\n",
      "Invertebrate       1.00      1.00      1.00         2\n",
      "\n",
      " avg / total       0.88      0.90      0.89        41\n",
      "\n",
      "[[15  0  1  0  0  0  0]\n",
      " [ 0  7  0  0  0  0  0]\n",
      " [ 2  0  1  1  0  0  0]\n",
      " [ 0  0  0  8  0  0  0]\n",
      " [ 0  0  0  0  1  0  0]\n",
      " [ 0  0  0  0  0  3  0]\n",
      " [ 0  0  0  0  0  0  2]]\n"
     ]
    }
   ],
   "source": [
    "# Fitting a Naive Bayes model to the data\n",
    "model = GaussianNB()\n",
    "model.fit(X_train, y_train)\n",
    "\n",
    "print(model)\n",
    "\n",
    "# make predictions\n",
    "expected = y_test\n",
    "predicted = model.predict(X_test)\n",
    "# summarize the fit of the model\n",
    "print(metrics.classification_report(expected, predicted, target_names = target_names))\n",
    "print(metrics.confusion_matrix(expected, predicted))"
   ]
  },
  {
   "cell_type": "markdown",
   "metadata": {},
   "source": [
    "# SVM"
   ]
  },
  {
   "cell_type": "raw",
   "metadata": {},
   "source": [
    "For dataset with updated features"
   ]
  },
  {
   "cell_type": "code",
   "execution_count": 44,
   "metadata": {},
   "outputs": [
    {
     "name": "stdout",
     "output_type": "stream",
     "text": [
      "LinearSVC(C=1.0, class_weight=None, dual=True, fit_intercept=True,\n",
      "     intercept_scaling=1, loss='squared_hinge', max_iter=1000,\n",
      "     multi_class='ovr', penalty='l2', random_state=None, tol=0.0001,\n",
      "     verbose=0)\n",
      "              precision    recall  f1-score   support\n",
      "\n",
      "      Mammal       1.00      1.00      1.00        16\n",
      "        Bird       1.00      1.00      1.00         7\n",
      "     Reptile       0.00      0.00      0.00         4\n",
      "        Fish       0.80      1.00      0.89         8\n",
      "   Amphibian       0.50      1.00      0.67         1\n",
      "         Bug       1.00      1.00      1.00         3\n",
      "Invertebrate       0.67      1.00      0.80         2\n",
      "\n",
      " avg / total       0.83      0.90      0.86        41\n",
      "\n",
      "[[16  0  0  0  0  0  0]\n",
      " [ 0  7  0  0  0  0  0]\n",
      " [ 0  0  0  2  1  0  1]\n",
      " [ 0  0  0  8  0  0  0]\n",
      " [ 0  0  0  0  1  0  0]\n",
      " [ 0  0  0  0  0  3  0]\n",
      " [ 0  0  0  0  0  0  2]]\n"
     ]
    },
    {
     "name": "stderr",
     "output_type": "stream",
     "text": [
      "C:\\Users\\Barkha\\Anaconda3\\lib\\site-packages\\sklearn\\metrics\\classification.py:1135: UndefinedMetricWarning: Precision and F-score are ill-defined and being set to 0.0 in labels with no predicted samples.\n",
      "  'precision', 'predicted', average, warn_for)\n"
     ]
    }
   ],
   "source": [
    "from sklearn import svm\n",
    "model = svm.LinearSVC()\n",
    "model.fit(X_train, y_train)\n",
    "\n",
    "print(model)\n",
    "\n",
    "# make predictions\n",
    "expected = y_test\n",
    "predicted = model.predict(X_test)\n",
    "\n",
    "# summarize the fit of the model\n",
    "print(metrics.classification_report(expected, predicted, target_names = target_names))\n",
    "print(metrics.confusion_matrix(expected, predicted))"
   ]
  },
  {
   "cell_type": "markdown",
   "metadata": {},
   "source": [
    "# Decision Tree"
   ]
  },
  {
   "cell_type": "raw",
   "metadata": {},
   "source": [
    "For dataset with updated features"
   ]
  },
  {
   "cell_type": "code",
   "execution_count": 46,
   "metadata": {},
   "outputs": [
    {
     "name": "stdout",
     "output_type": "stream",
     "text": [
      "DecisionTreeClassifier(class_weight=None, criterion='gini', max_depth=None,\n",
      "            max_features=None, max_leaf_nodes=None,\n",
      "            min_impurity_decrease=0.0, min_impurity_split=None,\n",
      "            min_samples_leaf=1, min_samples_split=2,\n",
      "            min_weight_fraction_leaf=0.0, presort=False, random_state=None,\n",
      "            splitter='best')\n",
      "              precision    recall  f1-score   support\n",
      "\n",
      "      Mammal       1.00      1.00      1.00        16\n",
      "        Bird       1.00      1.00      1.00         7\n",
      "     Reptile       0.00      0.00      0.00         4\n",
      "        Fish       1.00      1.00      1.00         8\n",
      "   Amphibian       0.20      1.00      0.33         1\n",
      "         Bug       1.00      1.00      1.00         3\n",
      "Invertebrate       1.00      1.00      1.00         2\n",
      "\n",
      " avg / total       0.88      0.90      0.89        41\n",
      "\n",
      "[[16  0  0  0  0  0  0]\n",
      " [ 0  7  0  0  0  0  0]\n",
      " [ 0  0  0  0  4  0  0]\n",
      " [ 0  0  0  8  0  0  0]\n",
      " [ 0  0  0  0  1  0  0]\n",
      " [ 0  0  0  0  0  3  0]\n",
      " [ 0  0  0  0  0  0  2]]\n"
     ]
    },
    {
     "name": "stderr",
     "output_type": "stream",
     "text": [
      "C:\\Users\\Barkha\\Anaconda3\\lib\\site-packages\\sklearn\\metrics\\classification.py:1135: UndefinedMetricWarning: Precision and F-score are ill-defined and being set to 0.0 in labels with no predicted samples.\n",
      "  'precision', 'predicted', average, warn_for)\n"
     ]
    }
   ],
   "source": [
    "from sklearn.tree import DecisionTreeClassifier\n",
    "\n",
    "model = DecisionTreeClassifier()\n",
    "model.fit(X_train,y_train)\n",
    "\n",
    "print(model)\n",
    "\n",
    "# make predictions\n",
    "expected = y_test\n",
    "predicted = model.predict(X_test)\n",
    "# summarize the fit of the model\n",
    "\n",
    "print(metrics.classification_report(expected, predicted, target_names = target_names))\n",
    "print(metrics.confusion_matrix(expected, predicted))"
   ]
  },
  {
   "cell_type": "markdown",
   "metadata": {},
   "source": [
    "# Random Forest"
   ]
  },
  {
   "cell_type": "markdown",
   "metadata": {},
   "source": [
    "For dataset with updated features"
   ]
  },
  {
   "cell_type": "code",
   "execution_count": 47,
   "metadata": {},
   "outputs": [
    {
     "name": "stdout",
     "output_type": "stream",
     "text": [
      "RandomForestClassifier(bootstrap=True, class_weight=None, criterion='gini',\n",
      "            max_depth=None, max_features='auto', max_leaf_nodes=None,\n",
      "            min_impurity_decrease=0.0, min_impurity_split=None,\n",
      "            min_samples_leaf=1, min_samples_split=2,\n",
      "            min_weight_fraction_leaf=0.0, n_estimators=10, n_jobs=1,\n",
      "            oob_score=False, random_state=None, verbose=0,\n",
      "            warm_start=False)\n",
      "              precision    recall  f1-score   support\n",
      "\n",
      "      Mammal       0.94      0.94      0.94        16\n",
      "        Bird       1.00      1.00      1.00         7\n",
      "     Reptile       0.00      0.00      0.00         4\n",
      "        Fish       1.00      1.00      1.00         8\n",
      "   Amphibian       0.25      1.00      0.40         1\n",
      "         Bug       1.00      1.00      1.00         3\n",
      "Invertebrate       1.00      1.00      1.00         2\n",
      "\n",
      " avg / total       0.86      0.88      0.86        41\n",
      "\n",
      "[[15  0  1  0  0  0  0]\n",
      " [ 0  7  0  0  0  0  0]\n",
      " [ 1  0  0  0  3  0  0]\n",
      " [ 0  0  0  8  0  0  0]\n",
      " [ 0  0  0  0  1  0  0]\n",
      " [ 0  0  0  0  0  3  0]\n",
      " [ 0  0  0  0  0  0  2]]\n"
     ]
    }
   ],
   "source": [
    "from sklearn.ensemble import RandomForestClassifier\n",
    "model = RandomForestClassifier()\n",
    "model.fit(X_train, y_train)\n",
    "\n",
    "print(model)\n",
    "\n",
    "# make predictions\n",
    "expected = y_test\n",
    "predicted = model.predict(X_test)\n",
    "# summarize the fit of the model\n",
    "print(metrics.classification_report(expected, predicted, target_names = target_names))\n",
    "print(metrics.confusion_matrix(expected, predicted))"
   ]
  },
  {
   "cell_type": "code",
   "execution_count": null,
   "metadata": {
    "collapsed": true
   },
   "outputs": [],
   "source": []
  }
 ],
 "metadata": {
  "kernelspec": {
   "display_name": "Python 3",
   "language": "python",
   "name": "python3"
  },
  "language_info": {
   "codemirror_mode": {
    "name": "ipython",
    "version": 3
   },
   "file_extension": ".py",
   "mimetype": "text/x-python",
   "name": "python",
   "nbconvert_exporter": "python",
   "pygments_lexer": "ipython3",
   "version": "3.6.3"
  }
 },
 "nbformat": 4,
 "nbformat_minor": 2
}
